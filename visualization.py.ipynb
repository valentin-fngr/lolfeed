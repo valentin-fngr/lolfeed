{
 "cells": [
  {
   "cell_type": "code",
   "execution_count": 93,
   "id": "e43560eb",
   "metadata": {},
   "outputs": [],
   "source": [
    "import numpy as np \n",
    "import matplotlib.pyplot as plt \n",
    "import pandas as pd\n",
    "import os "
   ]
  },
  {
   "cell_type": "code",
   "execution_count": 94,
   "id": "e18b95dc",
   "metadata": {},
   "outputs": [
    {
     "name": "stdout",
     "output_type": "stream",
     "text": [
      "/home/valentin/Desktop/loldb/dataset/match.csv\n",
      "/home/valentin/Desktop/loldb/dataset/player.csv\n"
     ]
    }
   ],
   "source": [
    "MATCH_PATH = os.path.join(os.getcwd(), \"dataset/match.csv\")\n",
    "PLAYERS_PATH = os.path.join(os.getcwd(), \"dataset/player.csv\")\n",
    "\n",
    "print(MATCH_PATH) \n",
    "print(PLAYERS_PATH)"
   ]
  },
  {
   "cell_type": "code",
   "execution_count": 95,
   "id": "a77108e6",
   "metadata": {},
   "outputs": [],
   "source": [
    "player_dataset = pd.read_csv(PLAYERS_PATH)\n",
    "match_dataset = pd.read_csv(MATCH_PATH)\n",
    "\n",
    "\n",
    "player_dataset = player_dataset.sample(frac=1) \n",
    "match_dataset = match_dataset.sample(frac=1) "
   ]
  },
  {
   "cell_type": "code",
   "execution_count": 96,
   "id": "7a2954e9",
   "metadata": {},
   "outputs": [
    {
     "name": "stdout",
     "output_type": "stream",
     "text": [
      "player size :  (111882, 41)\n",
      "match shape :  (111882, 6)\n"
     ]
    }
   ],
   "source": [
    "print(\"player size : \", player_dataset.shape) \n",
    "print(\"match shape : \", match_dataset.shape) \n"
   ]
  },
  {
   "cell_type": "code",
   "execution_count": null,
   "id": "0946d95f",
   "metadata": {},
   "outputs": [],
   "source": []
  },
  {
   "cell_type": "code",
   "execution_count": 97,
   "id": "c904e46c",
   "metadata": {},
   "outputs": [
    {
     "name": "stdout",
     "output_type": "stream",
     "text": [
      "Game modes :  ['CLASSIC']\n"
     ]
    },
    {
     "data": {
      "text/html": [
       "<div>\n",
       "<style scoped>\n",
       "    .dataframe tbody tr th:only-of-type {\n",
       "        vertical-align: middle;\n",
       "    }\n",
       "\n",
       "    .dataframe tbody tr th {\n",
       "        vertical-align: top;\n",
       "    }\n",
       "\n",
       "    .dataframe thead th {\n",
       "        text-align: right;\n",
       "    }\n",
       "</style>\n",
       "<table border=\"1\" class=\"dataframe\">\n",
       "  <thead>\n",
       "    <tr style=\"text-align: right;\">\n",
       "      <th></th>\n",
       "      <th>matchId</th>\n",
       "      <th>game_id</th>\n",
       "      <th>season</th>\n",
       "      <th>gameDuration</th>\n",
       "      <th>gameCreation</th>\n",
       "    </tr>\n",
       "  </thead>\n",
       "  <tbody>\n",
       "    <tr>\n",
       "      <th>52797</th>\n",
       "      <td>EUW1_5657282112</td>\n",
       "      <td>5657282112</td>\n",
       "      <td>12</td>\n",
       "      <td>31.166667</td>\n",
       "      <td>1641734359000</td>\n",
       "    </tr>\n",
       "    <tr>\n",
       "      <th>51038</th>\n",
       "      <td>EUW1_5672651167</td>\n",
       "      <td>5672651167</td>\n",
       "      <td>12</td>\n",
       "      <td>38.150000</td>\n",
       "      <td>1642371373000</td>\n",
       "    </tr>\n",
       "    <tr>\n",
       "      <th>93773</th>\n",
       "      <td>EUW1_5661141551</td>\n",
       "      <td>5661141551</td>\n",
       "      <td>12</td>\n",
       "      <td>39.516667</td>\n",
       "      <td>1641902368000</td>\n",
       "    </tr>\n",
       "    <tr>\n",
       "      <th>76995</th>\n",
       "      <td>EUW1_5654263733</td>\n",
       "      <td>5654263733</td>\n",
       "      <td>12</td>\n",
       "      <td>31.116667</td>\n",
       "      <td>1641602200000</td>\n",
       "    </tr>\n",
       "    <tr>\n",
       "      <th>76985</th>\n",
       "      <td>EUW1_5656213261</td>\n",
       "      <td>5656213261</td>\n",
       "      <td>12</td>\n",
       "      <td>30.366667</td>\n",
       "      <td>1641685713000</td>\n",
       "    </tr>\n",
       "  </tbody>\n",
       "</table>\n",
       "</div>"
      ],
      "text/plain": [
       "               matchId     game_id  season  gameDuration   gameCreation\n",
       "52797  EUW1_5657282112  5657282112      12     31.166667  1641734359000\n",
       "51038  EUW1_5672651167  5672651167      12     38.150000  1642371373000\n",
       "93773  EUW1_5661141551  5661141551      12     39.516667  1641902368000\n",
       "76995  EUW1_5654263733  5654263733      12     31.116667  1641602200000\n",
       "76985  EUW1_5656213261  5656213261      12     30.366667  1641685713000"
      ]
     },
     "execution_count": 97,
     "metadata": {},
     "output_type": "execute_result"
    }
   ],
   "source": [
    "print(\"Game modes : \", match_dataset[\"gameMode\"].unique())\n",
    "# we can remove the game mode column\n",
    "del match_dataset[\"gameMode\"]\n",
    "match_dataset[\"gameDuration\"] = match_dataset[\"gameDuration\"] / 60.0\n",
    "\n",
    "# removing season 11\n",
    "\n",
    "match_dataset = match_dataset.drop(match_dataset[match_dataset[\"season\"] == 11].index)\n",
    "\n",
    "match_dataset.head()"
   ]
  },
  {
   "cell_type": "code",
   "execution_count": 136,
   "id": "1f8d0249",
   "metadata": {},
   "outputs": [
    {
     "data": {
      "text/plain": [
       "<seaborn.axisgrid.FacetGrid at 0x7fa84a343970>"
      ]
     },
     "execution_count": 136,
     "metadata": {},
     "output_type": "execute_result"
    },
    {
     "data": {
      "image/png": "[encoded data removed]",
      "text/plain": [
       "<Figure size 360x360 with 1 Axes>"
      ]
     },
     "metadata": {
      "needs_background": "light"
     },
     "output_type": "display_data"
    }
   ],
   "source": [
    "import seaborn as sns\n",
    "\n",
    "sns.displot(match_dataset, x=\"gameDuration\", kind=\"kde\")"
   ]
  },
  {
   "cell_type": "code",
   "execution_count": null,
   "id": "f2295633",
   "metadata": {},
   "outputs": [],
   "source": []
  },
  {
   "cell_type": "code",
   "execution_count": null,
   "id": "4af41aa4",
   "metadata": {},
   "outputs": [],
   "source": []
  },
  {
   "cell_type": "code",
   "execution_count": null,
   "id": "86fb5fef",
   "metadata": {},
   "outputs": [],
   "source": []
  },
  {
   "cell_type": "code",
   "execution_count": null,
   "id": "95aeebc8",
   "metadata": {},
   "outputs": [],
   "source": []
  },
  {
   "cell_type": "code",
   "execution_count": null,
   "id": "6153f902",
   "metadata": {},
   "outputs": [],
   "source": []
  }
 ],
 "metadata": {
  "kernelspec": {
   "display_name": "Python 3 (ipykernel)",
   "language": "python",
   "name": "python3"
  },
  "language_info": {
   "codemirror_mode": {
    "name": "ipython",
    "version": 3
   },
   "file_extension": ".py",
   "mimetype": "text/x-python",
   "name": "python",
   "nbconvert_exporter": "python",
   "pygments_lexer": "ipython3",
   "version": "3.8.8"
  }
 },
 "nbformat": 4,
 "nbformat_minor": 5
}
